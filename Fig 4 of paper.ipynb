{
 "cells": [
  {
   "cell_type": "code",
   "execution_count": 3,
   "metadata": {
    "collapsed": false
   },
   "outputs": [
    {
     "name": "stdout",
     "output_type": "stream",
     "text": [
      "The autoreload extension is already loaded. To reload it, use:\n",
      "  %reload_ext autoreload\n"
     ]
    }
   ],
   "source": [
    "%load_ext autoreload\n",
    "%autoreload 2"
   ]
  },
  {
   "cell_type": "code",
   "execution_count": 15,
   "metadata": {
    "collapsed": true
   },
   "outputs": [],
   "source": [
    "barriers = []\n",
    "energies = []"
   ]
  },
  {
   "cell_type": "code",
   "execution_count": 16,
   "metadata": {
    "collapsed": false
   },
   "outputs": [],
   "source": [
    "loc = []\n",
    "with open(\"outputs/output_1.dat\",\"r\") as f1:\n",
    "    temp = f1.readline()\n",
    "    for line in f1:\n",
    "        x = float(line.strip().split()[0])\n",
    "        if x < 100:\n",
    "            loc.append(x)\n",
    "barriers.append(1)\n",
    "energies.append(loc)"
   ]
  },
  {
   "cell_type": "code",
   "execution_count": 17,
   "metadata": {
    "collapsed": false
   },
   "outputs": [],
   "source": [
    "loc = []\n",
    "with open(\"outputs/output_2.dat\",\"r\") as f2:\n",
    "    temp = f2.readline()\n",
    "    for line in f2:\n",
    "        x = float(line.strip().split()[0])\n",
    "        if x < 100:\n",
    "            loc.append(x)\n",
    "barriers.append(2)\n",
    "energies.append(loc)"
   ]
  },
  {
   "cell_type": "code",
   "execution_count": 18,
   "metadata": {
    "collapsed": false
   },
   "outputs": [],
   "source": [
    "loc = []\n",
    "with open(\"outputs/output_3.dat\",\"r\") as f2:\n",
    "    temp = f2.readline()\n",
    "    for line in f2:\n",
    "        x = float(line.strip().split()[0])\n",
    "        if x < 100:\n",
    "            loc.append(x)\n",
    "barriers.append(3)\n",
    "energies.append(loc)"
   ]
  },
  {
   "cell_type": "code",
   "execution_count": 19,
   "metadata": {
    "collapsed": true
   },
   "outputs": [],
   "source": [
    "loc = []\n",
    "with open(\"outputs/output_4.dat\",\"r\") as f2:\n",
    "    temp = f2.readline()\n",
    "    for line in f2:\n",
    "        x = float(line.strip().split()[0])\n",
    "        if x < 100:\n",
    "            loc.append(x)\n",
    "barriers.append(4)\n",
    "energies.append(loc)"
   ]
  },
  {
   "cell_type": "code",
   "execution_count": 20,
   "metadata": {
    "collapsed": true
   },
   "outputs": [],
   "source": [
    "loc = []\n",
    "with open(\"outputs/output_5.dat\",\"r\") as f2:\n",
    "    temp = f2.readline()\n",
    "    for line in f2:\n",
    "        x = float(line.strip().split()[0])\n",
    "        if x < 100:\n",
    "            loc.append(x)\n",
    "barriers.append(5)\n",
    "energies.append(loc)"
   ]
  },
  {
   "cell_type": "code",
   "execution_count": 21,
   "metadata": {
    "collapsed": true
   },
   "outputs": [],
   "source": [
    "loc = []\n",
    "with open(\"outputs/output_6.dat\",\"r\") as f2:\n",
    "    temp = f2.readline()\n",
    "    for line in f2:\n",
    "        x = float(line.strip().split()[0])\n",
    "        if x < 100:\n",
    "            loc.append(x)\n",
    "barriers.append(6)\n",
    "energies.append(loc)"
   ]
  },
  {
   "cell_type": "code",
   "execution_count": 22,
   "metadata": {
    "collapsed": true
   },
   "outputs": [],
   "source": [
    "loc = []\n",
    "with open(\"outputs/output_7.dat\",\"r\") as f2:\n",
    "    temp = f2.readline()\n",
    "    for line in f2:\n",
    "        x = float(line.strip().split()[0])\n",
    "        if x < 100:\n",
    "            loc.append(x)\n",
    "barriers.append(7)\n",
    "energies.append(loc)"
   ]
  },
  {
   "cell_type": "code",
   "execution_count": 23,
   "metadata": {
    "collapsed": true
   },
   "outputs": [],
   "source": [
    "loc = []\n",
    "with open(\"outputs/output_8.dat\",\"r\") as f2:\n",
    "    temp = f2.readline()\n",
    "    for line in f2:\n",
    "        x = float(line.strip().split()[0])\n",
    "        if x < 100:\n",
    "            loc.append(x)\n",
    "barriers.append(8)\n",
    "energies.append(loc)"
   ]
  },
  {
   "cell_type": "code",
   "execution_count": 24,
   "metadata": {
    "collapsed": true
   },
   "outputs": [],
   "source": [
    "loc = []\n",
    "with open(\"outputs/output_9.dat\",\"r\") as f2:\n",
    "    temp = f2.readline()\n",
    "    for line in f2:\n",
    "        x = float(line.strip().split()[0])\n",
    "        if x < 100:\n",
    "            loc.append(x)\n",
    "barriers.append(9)\n",
    "energies.append(loc)"
   ]
  },
  {
   "cell_type": "code",
   "execution_count": 25,
   "metadata": {
    "collapsed": true
   },
   "outputs": [],
   "source": [
    "loc = []\n",
    "with open(\"outputs/output_10.dat\",\"r\") as f2:\n",
    "    temp = f2.readline()\n",
    "    for line in f2:\n",
    "        x = float(line.strip().split()[0])\n",
    "        if x < 100:\n",
    "            loc.append(x)\n",
    "barriers.append(10)\n",
    "energies.append(loc)"
   ]
  },
  {
   "cell_type": "code",
   "execution_count": 26,
   "metadata": {
    "collapsed": true
   },
   "outputs": [],
   "source": [
    "import matplotlib.pyplot as plt"
   ]
  },
  {
   "cell_type": "code",
   "execution_count": 28,
   "metadata": {
    "collapsed": false
   },
   "outputs": [
    {
     "data": {
      "image/png": "[encoded data removed]",
      "text/plain": [
       "<matplotlib.figure.Figure at 0x11097b310>"
      ]
     },
     "metadata": {},
     "output_type": "display_data"
    }
   ],
   "source": [
    "for i in range(10):\n",
    "    for j in range(len(energies[i])):\n",
    "        plt.scatter(barriers[i],energies[i][j])\n",
    "plt.show()"
   ]
  },
  {
   "cell_type": "code",
   "execution_count": null,
   "metadata": {
    "collapsed": true
   },
   "outputs": [],
   "source": []
  }
 ],
 "metadata": {
  "kernelspec": {
   "display_name": "Python 2",
   "language": "python",
   "name": "python2"
  },
  "language_info": {
   "codemirror_mode": {
    "name": "ipython",
    "version": 2
   },
   "file_extension": ".py",
   "mimetype": "text/x-python",
   "name": "python",
   "nbconvert_exporter": "python",
   "pygments_lexer": "ipython2",
   "version": "2.7.9"
  }
 },
 "nbformat": 4,
 "nbformat_minor": 1
}
